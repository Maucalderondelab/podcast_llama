{
 "cells": [
  {
   "cell_type": "code",
   "execution_count": 1,
   "id": "db3a9abe-053c-48e8-adb0-f4d4aeb7e65a",
   "metadata": {},
   "outputs": [],
   "source": [
    "import librosa\n",
    "import soundfile as sf"
   ]
  },
  {
   "cell_type": "code",
   "execution_count": 9,
   "id": "004d37c7-5a99-48bf-8e59-6924c927faab",
   "metadata": {},
   "outputs": [],
   "source": [
    "# Load audio files\n",
    "y1, sr1 = librosa.load('tests/kratos-take-00.mp3')\n",
    "y2, sr2 = librosa.load('tests/SJohnsonVoiceOvers.mp3')\n",
    "\n",
    "# Ensure both audio files have the same sample rate\n",
    "assert sr1 == sr2\n",
    "\n",
    "# Apply STFT\n",
    "D1 = librosa.stft(y1)\n",
    "D2 = librosa.stft(y2)\n",
    "\n",
    "# Merge the vocals by adding the spectrograms\n",
    "D_merged = D1[:,:649] + D2\n",
    "\n",
    "# Apply inverse STFT\n",
    "y_merged = librosa.istft(D_merged)\n",
    "\n",
    "# Save the merged audio\n",
    "sf.write('merged_voice.wav', y_merged, sr1)"
   ]
  },
  {
   "cell_type": "code",
   "execution_count": 3,
   "id": "5ebdd732-cc40-4e59-99c5-07d3bf5d3309",
   "metadata": {},
   "outputs": [
    {
     "data": {
      "text/plain": [
       "(2870932, 331809)"
      ]
     },
     "execution_count": 3,
     "metadata": {},
     "output_type": "execute_result"
    }
   ],
   "source": [
    "len(y1), len(y2)"
   ]
  },
  {
   "cell_type": "code",
   "execution_count": 7,
   "id": "881376b9-e0fd-4124-bb20-9a3551d40a75",
   "metadata": {},
   "outputs": [
    {
     "data": {
      "text/plain": [
       "(1025, 649)"
      ]
     },
     "execution_count": 7,
     "metadata": {},
     "output_type": "execute_result"
    }
   ],
   "source": [
    "D1[:,:649].shape"
   ]
  }
 ],
 "metadata": {
  "kernelspec": {
   "display_name": "Python 3 (ipykernel)",
   "language": "python",
   "name": "python3"
  },
  "language_info": {
   "codemirror_mode": {
    "name": "ipython",
    "version": 3
   },
   "file_extension": ".py",
   "mimetype": "text/x-python",
   "name": "python",
   "nbconvert_exporter": "python",
   "pygments_lexer": "ipython3",
   "version": "3.12.9"
  }
 },
 "nbformat": 4,
 "nbformat_minor": 5
}
